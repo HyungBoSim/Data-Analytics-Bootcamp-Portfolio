{
 "cells": [
  {
   "cell_type": "markdown",
   "metadata": {},
   "source": [
    "WeatherPy"
   ]
  },
  {
   "cell_type": "code",
   "execution_count": 1,
   "metadata": {},
   "outputs": [
    {
     "ename": "ModuleNotFoundError",
     "evalue": "No module named 'api_keys'",
     "output_type": "error",
     "traceback": [
      "\u001b[0;31m---------------------------------------------------------------------------\u001b[0m",
      "\u001b[0;31mModuleNotFoundError\u001b[0m                       Traceback (most recent call last)",
      "\u001b[0;32m<ipython-input-1-f4dcb78715b2>\u001b[0m in \u001b[0;36m<module>\u001b[0;34m()\u001b[0m\n\u001b[1;32m     10\u001b[0m \u001b[0;34m\u001b[0m\u001b[0m\n\u001b[1;32m     11\u001b[0m \u001b[0;31m# Import API key\u001b[0m\u001b[0;34m\u001b[0m\u001b[0;34m\u001b[0m\u001b[0m\n\u001b[0;32m---> 12\u001b[0;31m \u001b[0;32mimport\u001b[0m \u001b[0mapi_keys\u001b[0m\u001b[0;34m\u001b[0m\u001b[0m\n\u001b[0m\u001b[1;32m     13\u001b[0m \u001b[0;34m\u001b[0m\u001b[0m\n\u001b[1;32m     14\u001b[0m \u001b[0;31m# Incorporated citipy to determine city based on latitude and longitude\u001b[0m\u001b[0;34m\u001b[0m\u001b[0;34m\u001b[0m\u001b[0m\n",
      "\u001b[0;31mModuleNotFoundError\u001b[0m: No module named 'api_keys'"
     ]
    }
   ],
   "source": [
    "\n",
    "#!pip install citipy\n",
    "# Dependencies and Setup\n",
    "\n",
    "import matplotlib.pyplot as plt\n",
    "import pandas as pd\n",
    "import numpy as np\n",
    "import requests\n",
    "import time\n",
    "\n",
    "# Import API key\n",
    "import api_keys\n",
    "\n",
    "# Incorporated citipy to determine city based on latitude and longitude\n",
    "from citipy import citipy\n",
    "\n",
    "# Output File (CSV)\n",
    "output_data_file = \"output_data/cities.csv\"\n",
    "\n",
    "# Range of latitudes and longitudes\n",
    "lat_range = (-90, 90)\n",
    "lng_range = (-180, 180)"
   ]
  },
  {
   "cell_type": "code",
   "execution_count": null,
   "metadata": {},
   "outputs": [],
   "source": [
    "\n",
    "# List for holding lat_lngs and cities\n",
    "lat_lngs = []\n",
    "cities = []\n",
    "\n",
    "# Create a set of random lat and lng combinations\n",
    "lats = np.random.uniform(low=-90.000, high=90.000, size=1200)\n",
    "lngs = np.random.uniform(low=-180.000, high=180.000, size=1200)\n",
    "lat_lngs = zip(lats, lngs)\n",
    "\n",
    "# Identify nearest city for each lat, lng combination\n",
    "for lat_lng in lat_lngs:\n",
    "    city = citipy.nearest_city(lat_lng[0], lat_lng[1]).city_name\n",
    "    \n",
    "    # If the city is unique, then add it to a our cities list\n",
    "    if city not in cities:\n",
    "        cities.append(city)\n",
    "\n",
    "# Print the city count to confirm sufficient count\n",
    "len(cities)"
   ]
  },
  {
   "cell_type": "code",
   "execution_count": null,
   "metadata": {},
   "outputs": [],
   "source": [
    "# OpenWeatherMap API Key\n",
    "api_key = api_keys.api_key\n",
    "\n",
    "# Starting URL for Weather Map API Call\n",
    "url = \"http://api.openweathermap.org/data/2.5/weather?units=Imperial&APPID=\" + api_key\n",
    "\n",
    "WeatherData = []\n",
    "\n",
    "for x in cities:\n",
    "    \n",
    "    CityUrl = url + \"&q=\" + x\n",
    "    \n",
    "    \n",
    "    try:\n",
    "        Weather = requests.get(CityUrl).json()\n",
    "    \n",
    "        # Parse out the max temp, humidity, and cloudiness\n",
    "        CityLat = Weather[\"coord\"][\"lat\"]\n",
    "        CityLong = Weather[\"coord\"][\"lon\"]\n",
    "        CityTemp = Weather[\"main\"][\"temp_max\"]\n",
    "        CityHumidity = Weather[\"main\"][\"humidity\"]\n",
    "        CityClouds = Weather[\"clouds\"][\"all\"]\n",
    "        CityWind = Weather[\"wind\"][\"speed\"]\n",
    "      \n",
    "        \n",
    "        \n",
    "        WeatherData.append({\"City\": x, \n",
    "                          \"Lat\": CityLat, \n",
    "                          \"Lng\": CityLong, \n",
    "                          \"Max Temp\": CityTemp,\n",
    "                          \"Humidity\": CityHumidity,\n",
    "                          \"Cloudiness\": CityClouds,\n",
    "                          \"Wind Speed\": CityWind,\n",
    "                          \"Country\": CityCountry})\n",
    "        \n",
    "        \n",
    "    except:\n",
    "        \n",
    "        pass\n",
    "\n",
    "print (WeatherData)"
   ]
  },
  {
   "cell_type": "code",
   "execution_count": null,
   "metadata": {},
   "outputs": [],
   "source": [
    "WeatherData_pd = pd.DataFrame(WeatherData)\n",
    "CityLat = WeatherData_pd[\"Lat\"]\n",
    "CityTemp = WeatherData_pd[\"Max Temp\"]\n",
    "CityHumidity = WeatherData_pd[\"Humidity\"]\n",
    "CityClouds = WeatherData_pd[\"Cloudiness\"]\n",
    "CityWind = WeatherData_pd[\"Wind Speed\"]\n",
    "\n",
    "WeatherData_pd.head()"
   ]
  },
  {
   "cell_type": "code",
   "execution_count": null,
   "metadata": {},
   "outputs": [],
   "source": []
  },
  {
   "cell_type": "code",
   "execution_count": null,
   "metadata": {},
   "outputs": [],
   "source": []
  }
 ],
 "metadata": {
  "kernelspec": {
   "display_name": "Python 3",
   "language": "python",
   "name": "python3"
  },
  "language_info": {
   "codemirror_mode": {
    "name": "ipython",
    "version": 3
   },
   "file_extension": ".py",
   "mimetype": "text/x-python",
   "name": "python",
   "nbconvert_exporter": "python",
   "pygments_lexer": "ipython3",
   "version": "3.6.5"
  }
 },
 "nbformat": 4,
 "nbformat_minor": 2
}
